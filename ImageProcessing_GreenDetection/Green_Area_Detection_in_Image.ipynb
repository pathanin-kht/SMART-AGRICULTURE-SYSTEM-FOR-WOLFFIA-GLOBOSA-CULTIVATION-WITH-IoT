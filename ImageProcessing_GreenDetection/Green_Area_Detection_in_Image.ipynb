{
 "cells": [
  {
   "cell_type": "code",
   "execution_count": null,
   "metadata": {
    "vscode": {
     "languageId": "plaintext"
    }
   },
   "outputs": [],
   "source": [
    "import cv2\n",
    "import numpy as np\n",
    "import matplotlib.pyplot as plt\n",
    "from google.colab import files\n",
    "\n",
    "uploaded = files.upload()\n",
    "\n",
    "try:\n",
    "    if len(uploaded) == 0:\n",
    "        raise ValueError(\"No files uploaded. Please upload an image.\")\n",
    "\n",
    "    image_path = list(uploaded.keys())[0]\n",
    "    image = cv2.imread(image_path)  # Read the image from file\n",
    "\n",
    "    if image is None:\n",
    "        raise ValueError(\"Unable to load the image. Check the file path.\")\n",
    "\n",
    "    hsv_image = cv2.cvtColor(image, cv2.COLOR_BGR2HSV)\n",
    "\n",
    "    lower_green = np.array([36, 50, 50])  # Lower bound of green\n",
    "    upper_green = np.array([86, 255, 255])  # Upper bound of green\n",
    "\n",
    "    green_mask = cv2.inRange(hsv_image, lower_green, upper_green)\n",
    "\n",
    "    green_points = cv2.findContours(green_mask, cv2.RETR_EXTERNAL, cv2.CHAIN_APPROX_SIMPLE)\n",
    "\n",
    "    green_count = 0\n",
    "\n",
    "    if green_points[0]:\n",
    "        contours = green_points[0]\n",
    "        for contour in contours:\n",
    "            area = cv2.contourArea(contour)\n",
    "            if area > 1:  \n",
    "                green_count += area  \n",
    "\n",
    "        marked_image = image.copy()  \n",
    "        cv2.drawContours(marked_image, contours, -1, (128, 128, 128), 3)  \n",
    "\n",
    "        gray_mask = np.full_like(image, 255)  \n",
    "        gray_mask[green_mask > 0] = [128, 128, 128]  \n",
    "\n",
    "    plt.figure(figsize=(20, 10))  \n",
    "\n",
    "    plt.subplot(1, 2, 1)  # 1 row, 2 columns, 1st subplot\n",
    "    plt.imshow(cv2.cvtColor(image, cv2.COLOR_BGR2RGB))\n",
    "    plt.axis('off')\n",
    "    plt.title(f\"Total Green Points: {green_count}\")\n",
    "\n",
    "    plt.subplot(1, 2, 2)  # 1 row, 2 columns, 2nd subplot\n",
    "    plt.imshow(cv2.cvtColor(gray_mask, cv2.COLOR_BGR2RGB))\n",
    "    plt.axis('off')\n",
    "    plt.title(\"Marked Areas (Gray) and Non-Marked Areas (White)\")\n",
    "\n",
    "    plt.show()\n",
    "\n",
    "except Exception as e:\n",
    "    print(f\"An error occurred: {e}\")\n"
   ]
  }
 ],
 "metadata": {
  "language_info": {
   "name": "python"
  }
 },
 "nbformat": 4,
 "nbformat_minor": 2
}
